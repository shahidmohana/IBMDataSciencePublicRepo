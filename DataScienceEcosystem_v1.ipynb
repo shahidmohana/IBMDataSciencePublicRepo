{
 "cells": [
  {
   "cell_type": "markdown",
   "metadata": {},
   "source": [
    "####  Exercise 2: Create markdown cell with title of the notebook"
   ]
  },
  {
   "cell_type": "markdown",
   "metadata": {},
   "source": [
    "# Data Science Tools and Ecosystem"
   ]
  },
  {
   "cell_type": "markdown",
   "metadata": {},
   "source": [
    "#### Exercise 3 - Create a markdown cell for an introduction"
   ]
  },
  {
   "cell_type": "markdown",
   "metadata": {},
   "source": [
    "### Introduction\n",
    "In this notebook, Data science tools and ecosystem are summarized. This comprehensive overview covers a diverse range of tools and technologies, including popularprogramming languages like Python and R, essential libraries like NumPy and pandas for data manipulation, powerful visualization tools like Matplotlib and ggplot2, and robust machine learning frameworks such as Scikit-learn and TensorFlow. Additionally, we explore how these tools work together to facilitate the entire data science workflow, empowering data scientists to extract valuable insights from complex datasets. It also intorduces the IBM Watson Studio. "
   ]
  },
  {
   "cell_type": "markdown",
   "metadata": {},
   "source": [
    "#### Exercise 4 - Create a markdown cell to list data science languages\n",
    "\n",
    "## some popular Data Science languages are:\n",
    "1. R\n",
    "2. Python\n",
    "3. Julia\n",
    "4. Scala\n",
    "5. Java\n",
    "6. C++\n",
    "7. JavaScript"
   ]
  },
  {
   "cell_type": "markdown",
   "metadata": {},
   "source": [
    "#### Exercise 5 - Create a markdown cell to list data science libraries\n",
    "\n",
    "## Some popular Data Science Libraries are: \n",
    "Data science libraries play a critical role in data analysis, manipulation, visualization, and machine learning tasks. These libraries provide a collection of functions and tools that simplify complex operations and enable data scientists to work more efficiently. Here's an overview of some widely used data science libraries:\n",
    "\n",
    "1. Numpy\n",
    "2. Pandas\n",
    "3. matplotlib / Seaborn / ggplot\n",
    "4. Scipy\n",
    "5. Scikit-Learn\n",
    "6. Tensorflow\n",
    "7. Pytorch"
   ]
  },
  {
   "cell_type": "markdown",
   "metadata": {},
   "source": [
    "#### Exercise 6 - Create a markdown cell with a table of Data Science tools\n",
    "\n",
    "## Table of Data Science Tools\n",
    "|Data Science Tools|\n",
    "|------|\n",
    "|Jupyter Notebook|\n",
    "|R Studio|\n",
    "|Apache Zeppelin|"
   ]
  },
  {
   "cell_type": "markdown",
   "metadata": {},
   "source": [
    "#### Exercise 7 - Create a markdown cell introducing arithmetic expression examples\n",
    "\n",
    "### Below are a few examples of evaluating arithmetic expressions in Python"
   ]
  },
  {
   "cell_type": "markdown",
   "metadata": {},
   "source": [
    "#### Exercise 8 - Create a code cell to multiply and add numbers"
   ]
  },
  {
   "cell_type": "code",
   "execution_count": 5,
   "metadata": {},
   "outputs": [
    {
     "data": {
      "text/plain": [
       "17"
      ]
     },
     "execution_count": 5,
     "metadata": {},
     "output_type": "execute_result"
    }
   ],
   "source": [
    "\n",
    "(3*4)+5"
   ]
  },
  {
   "cell_type": "markdown",
   "metadata": {},
   "source": [
    "#### Exercise 9 - Create a code cell to convert minutes to hours"
   ]
  },
  {
   "cell_type": "code",
   "execution_count": 6,
   "metadata": {},
   "outputs": [
    {
     "name": "stdout",
     "output_type": "stream",
     "text": [
      "3.3333333333333335\n"
     ]
    }
   ],
   "source": [
    "# This will convert 200 minutes to hours by diving by 60\n",
    "total_minutes = 200\n",
    "minutes_in_one_hour = 60\n",
    "No_of_hours = total_minutes / minutes_in_one_hour\n",
    "print(No_of_hours)"
   ]
  },
  {
   "cell_type": "markdown",
   "metadata": {},
   "source": [
    "#### Exercise 10 - Insert a markdown cell to list Objectives"
   ]
  },
  {
   "cell_type": "markdown",
   "metadata": {},
   "source": [
    "## Objectives of this Notebook\n",
    "- Create a Jupyter Notebook\n",
    "- Insert code and markdown cells\n",
    "- Get Familialr with Data Science Language \n",
    "- Get Familialr with Data Science Tools and Libraries\n",
    "- Share your notebook through GitHub"
   ]
  },
  {
   "cell_type": "markdown",
   "metadata": {},
   "source": [
    "#### Exercise 11 - Create a markdown cell to indicate the Author's name\n",
    "\n",
    "## Author:\n",
    "Muhammad Shahid"
   ]
  },
  {
   "cell_type": "markdown",
   "metadata": {},
   "source": [
    "#### Exercise 12 - Share your notebook through GitHub\n",
    "\n",
    "Githuib Repository: <a src= \"https://github.com/shahidmohana/IBMDataSciencePublicRepo/blob/main/DataScienceEcosystem.ipynb\"> Data Science Course 2 Final Assigment </a>"
   ]
  }
 ],
 "metadata": {
  "kernelspec": {
   "display_name": "Python 3 (ipykernel)",
   "language": "python",
   "name": "python3"
  },
  "language_info": {
   "codemirror_mode": {
    "name": "ipython",
    "version": 3
   },
   "file_extension": ".py",
   "mimetype": "text/x-python",
   "name": "python",
   "nbconvert_exporter": "python",
   "pygments_lexer": "ipython3",
   "version": "3.9.7"
  }
 },
 "nbformat": 4,
 "nbformat_minor": 4
}
